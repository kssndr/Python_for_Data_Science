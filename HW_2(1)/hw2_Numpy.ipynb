{
 "cells": [
  {
   "cell_type": "markdown",
   "metadata": {},
   "source": [
    "Задание 1\n",
    "Создайте массив Numpy под названием a размером 5x2, то есть состоящий из 5 строк и 2 столбцов.\n",
    "Первый столбец должен содержать числа 1, 2, 3, 3, 1, а второй - числа 6, 8, 11, 10, 7.\n",
    "Будем считать, что каждый столбец - это признак, а строка - наблюдение.\n",
    "Затем найдите среднее значение по каждому признаку, используя метод mean массива Numpy.\n",
    "Результат запишите в массив mean_a, в нем должно быть 2 элемента."
   ]
  },
  {
   "cell_type": "code",
   "execution_count": 1,
   "metadata": {},
   "outputs": [],
   "source": [
    "import numpy as np"
   ]
  },
  {
   "cell_type": "code",
   "execution_count": 10,
   "metadata": {},
   "outputs": [
    {
     "name": "stdout",
     "output_type": "stream",
     "text": [
      "[[ 1  2  3  3  1]\n",
      " [ 6  8 11 10  7]]\n",
      "Размерность a_easy_input: 2\n",
      "Форма a_easy_input: (2, 5)\n",
      "[[ 1  6]\n",
      " [ 2  8]\n",
      " [ 3 11]\n",
      " [ 3 10]\n",
      " [ 1  7]]\n",
      "Размерность a: 2\n",
      "Форма a: (5, 2)\n",
      "среднее значение по каждому признаку (столбцу): [2.  8.4]\n"
     ]
    }
   ],
   "source": [
    "a_easy_input = np.array([[1, 2, 3, 3, 1], [6, 8, 11, 10, 7]])\n",
    "\n",
    "print(a_easy_input)\n",
    "\n",
    "print(\"Размерность a_easy_input: {}\".format(a_easy_input.ndim))\n",
    "\n",
    "print(\"Форма a_easy_input: {}\".format(a_easy_input.shape))\n",
    "\n",
    "a = np.transpose(a_easy_input)\n",
    "\n",
    "print(a)\n",
    "\n",
    "print(\"Размерность a: {}\".format(a.ndim))\n",
    "\n",
    "print(\"Форма a: {}\".format(a.shape))\n",
    "\n",
    "mean_a = a.mean(axis=0)\n",
    "\n",
    "print(\"среднее значение по каждому признаку (столбцу): {}\".format(mean_a))\n"
   ]
  },
  {
   "cell_type": "markdown",
   "metadata": {},
   "source": [
    "Задание 2\n",
    "Вычислите массив a_centered, отняв от значений массива а \n",
    "средние значения соответствующих признаков, содержащиеся в массиве mean_a.\n",
    "Вычисление должно производиться в одно действие.\n",
    "Получившийся массив должен иметь размер 5x2."
   ]
  },
  {
   "cell_type": "code",
   "execution_count": 14,
   "metadata": {},
   "outputs": [
    {
     "name": "stdout",
     "output_type": "stream",
     "text": [
      "массив a_centered:\n",
      " [[-1.  -2.4]\n",
      " [ 0.  -0.4]\n",
      " [ 1.   2.6]\n",
      " [ 1.   1.6]\n",
      " [-1.  -1.4]]\n"
     ]
    }
   ],
   "source": [
    "a_centered = a - mean_a\n",
    "print(\"массив a_centered:\\n {}\".format(a_centered))"
   ]
  },
  {
   "cell_type": "markdown",
   "metadata": {},
   "source": [
    "Задание 3\n",
    "Найдите скалярное произведение столбцов массива a_centered.\n",
    "В результате должна получиться величина a_centered_sp. \n",
    "Затем поделите a_centered_sp на N-1, где N - число наблюдений."
   ]
  },
  {
   "cell_type": "code",
   "execution_count": 22,
   "metadata": {},
   "outputs": [
    {
     "name": "stdout",
     "output_type": "stream",
     "text": [
      "Первый столбец: [-1.  0.  1.  1. -1.], второй столбец: [-2.4 -0.4  2.6  1.6 -1.4]\n",
      "Сколярное произведение двух столбцов: 8.0\n",
      "Сколярное произведение, деленное на число наблюдений (4): 2.0\n"
     ]
    }
   ],
   "source": [
    "a_row1 = a_centered[:,0].copy()\n",
    "a_row2 = a_centered[:,1].copy()\n",
    "print(\"Первый столбец: {}, второй столбец: {}\".format(a_row1, a_row2))\n",
    "\n",
    "a_centered_sp = a_row1.dot(a_row2)\n",
    "print(\"Сколярное произведение двух столбцов: {}\".format(a_centered_sp))\n",
    "print(\"Сколярное произведение, деленное на число наблюдений (4): {}\".format(a_centered_sp / 4))"
   ]
  },
  {
   "cell_type": "markdown",
   "metadata": {},
   "source": [
    "* Задание 4\n",
    "Число, которое мы получили в конце задания 3 является \n",
    "ковариацией двух признаков, содержащихся в массиве а.\n",
    "В задании 4 мы делили сумму произведений центрированных \n",
    "признаков на N-1, а не на N, поэтому полученная нами величина \n",
    "является несмещенной оценкой ковариации.\n",
    "Подробнее узнать о ковариации можно здесь:\n",
    "https://studopedia.ru/9_153900_viborochnaya-kovariatsiya-i-viborochnaya-dispersiya.html\n",
    "В этом задании проверьте получившееся число, вычислив\n",
    "ковариацию еще одним способом - с помощью функции np.cov.\n",
    "В качестве аргумента m функция np.cov должна принимать транспонированный массив a.\n",
    "В получившейся ковариационной матрице (массив Numpy размером 2x2) искомое значение \n",
    "ковариации будет равно элементу в строке с индексом 0 и столбце с индексом 1."
   ]
  },
  {
   "cell_type": "code",
   "execution_count": 30,
   "metadata": {},
   "outputs": [
    {
     "name": "stdout",
     "output_type": "stream",
     "text": [
      "Ковариационная матрица: \n",
      " [[1.  2. ]\n",
      " [2.  4.3]]\n",
      "Ковариация: 2.0\n"
     ]
    }
   ],
   "source": [
    "print(\"Ковариационная матрица: \\n {}\".format(np.cov(a.T)))\n",
    "print(\"Ковариация: {}\". format(np.cov(a.T)[0,1]))"
   ]
  },
  {
   "cell_type": "markdown",
   "metadata": {},
   "source": [
    "доп материал: https://docs.scipy.org/doc/numpy-1.14.5/reference/generated/numpy.cov.html"
   ]
  }
 ],
 "metadata": {
  "kernelspec": {
   "display_name": "Python 3",
   "language": "python",
   "name": "python3"
  },
  "language_info": {
   "codemirror_mode": {
    "name": "ipython",
    "version": 3
   },
   "file_extension": ".py",
   "mimetype": "text/x-python",
   "name": "python",
   "nbconvert_exporter": "python",
   "pygments_lexer": "ipython3",
   "version": "3.7.3"
  }
 },
 "nbformat": 4,
 "nbformat_minor": 2
}
